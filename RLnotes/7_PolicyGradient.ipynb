{
 "cells": [
  {
   "cell_type": "markdown",
   "id": "a9c31731",
   "metadata": {},
   "source": [
    "# Policy Gradient Methods"
   ]
  },
  {
   "cell_type": "markdown",
   "id": "34da26de",
   "metadata": {},
   "source": [
    "A limiting distribution is closely related to a stationary distribution but with a subtle difference. Let's explore the concept:\n",
    "\n",
    "Definition:\n",
    "The limiting distribution of a Markov chain is the long-term probability distribution of the chain, regardless of the initial state, as the number of steps approaches infinity.\n",
    "\n",
    "Mathematically, for a Markov chain with transition matrix P, if the limit exists, the limiting distribution π is defined as:\n",
    "\n",
    "π = lim(n→∞) μPⁿ\n",
    "\n",
    "where μ is any initial probability distribution.\n",
    "\n",
    "Key points about limiting distributions:\n",
    "\n",
    "1. Convergence:\n",
    "   It represents the probabilities of being in each state after a large number of transitions.\n",
    "\n",
    "2. Relation to stationary distribution:\n",
    "   - For finite, irreducible, and aperiodic Markov chains, the limiting distribution exists and is equal to the unique stationary distribution.\n",
    "   - For periodic chains, the limiting distribution may not exist, even when a stationary distribution does.\n",
    "\n",
    "3. Independence from initial state:\n",
    "   If it exists, the limiting distribution is the same regardless of the starting state of the Markov chain.\n",
    "\n",
    "4. Ergodic theorem:\n",
    "   For ergodic Markov chains, the limiting distribution equals the long-run proportion of time spent in each state.\n",
    "\n",
    "5. Calculation:\n",
    "   Can be computed by taking powers of the transition matrix P and observing the convergence of row probabilities.\n",
    "\n",
    "6. Existence:\n",
    "   Not all Markov chains have a limiting distribution. Conditions for existence include irreducibility and aperiodicity for finite state spaces.\n",
    "\n",
    "7. Applications:\n",
    "   Used in predicting long-term behavior of systems in various fields including economics, biology, and physics.\n",
    "\n",
    "Differences from stationary distribution:\n",
    "1. A stationary distribution always exists for finite, irreducible Markov chains, while a limiting distribution may not (e.g., for periodic chains).\n",
    "2. The stationary distribution is defined by the equation πP = π, while the limiting distribution is defined as a limit of repeated matrix multiplication.\n",
    "3. For some chains (like periodic ones), there can be a stationary distribution without a corresponding limiting distribution.\n",
    "\n",
    "Example:\n",
    "Consider a Markov chain with transition matrix:\n",
    "\n",
    "P = [[0.7, 0.3],\n",
    "     [0.4, 0.6]]\n",
    "\n",
    "As n increases, Pⁿ converges to:\n",
    "\n",
    "[[0.571, 0.429],\n",
    " [0.571, 0.429]]\n",
    "\n",
    "So the limiting distribution is [0.571, 0.429], which is also the stationary distribution for this chain.\n",
    "\n",
    "Would you like me to elaborate on any aspect of limiting distributions or compare them further with stationary distributions?"
   ]
  },
  {
   "cell_type": "markdown",
   "id": "299a54f8",
   "metadata": {},
   "source": [
    "The difference between limiting distributions and stationary distributions is subtle but important. Let's compare them:\n",
    "\n",
    "1. Definition:\n",
    "   - Stationary distribution: A probability distribution π that satisfies πP = π, where P is the transition matrix.\n",
    "   - Limiting distribution: The distribution that the Markov chain converges to as the number of steps approaches infinity, if such convergence occurs.\n",
    "\n",
    "2. Existence:\n",
    "   - Stationary distribution: Always exists for finite, irreducible Markov chains.\n",
    "   - Limiting distribution: May not exist for all Markov chains, even when a stationary distribution does.\n",
    "\n",
    "3. Calculation method:\n",
    "   - Stationary distribution: Found by solving the equation πP = π, subject to Σπᵢ = 1.\n",
    "   - Limiting distribution: Computed as lim(n→∞) μPⁿ, where μ is any initial distribution.\n",
    "\n",
    "4. Periodicity impact:\n",
    "   - Stationary distribution: Exists even for periodic chains.\n",
    "   - Limiting distribution: Does not exist for periodic chains.\n",
    "\n",
    "5. Convergence:\n",
    "   - Stationary distribution: Describes an equilibrium state but doesn't imply convergence.\n",
    "   - Limiting distribution: Implies convergence of the chain to a specific distribution.\n",
    "\n",
    "6. Uniqueness:\n",
    "   - Stationary distribution: Unique for irreducible chains.\n",
    "   - Limiting distribution: If it exists, it's unique and independent of the initial state.\n",
    "\n",
    "7. Relation:\n",
    "   - For finite, irreducible, aperiodic Markov chains, the limiting distribution exists and equals the unique stationary distribution.\n",
    "   - For periodic or reducible chains, they may differ or the limiting distribution may not exist.\n",
    "\n",
    "8. Interpretation:\n",
    "   - Stationary distribution: Can be interpreted as a stable state of the system.\n",
    "   - Limiting distribution: Represents the long-term behavior of the system.\n",
    "\n",
    "Example illustrating the difference:\n",
    "\n",
    "Consider a periodic Markov chain with two states and transition matrix:\n",
    "\n",
    "P = [[0, 1],\n",
    "     [1, 0]]\n",
    "\n",
    "This chain alternates between states deterministically.\n",
    "\n",
    "- Stationary distribution: π = [0.5, 0.5] (exists and satisfies πP = π)\n",
    "- Limiting distribution: Does not exist because the chain never converges to a stable distribution (it keeps alternating)\n",
    "\n",
    "This example shows a case where a stationary distribution exists, but a limiting distribution does not.\n",
    "\n",
    "In summary, while often identical for well-behaved Markov chains, stationary and limiting distributions can differ in their existence, calculation, and interpretation, especially for chains with special structures like periodicity or reducibility."
   ]
  },
  {
   "cell_type": "markdown",
   "id": "37f1d537",
   "metadata": {},
   "source": []
  },
  {
   "cell_type": "markdown",
   "id": "10720e66",
   "metadata": {},
   "source": []
  },
  {
   "cell_type": "markdown",
   "id": "c4e5bf9a",
   "metadata": {},
   "source": []
  },
  {
   "cell_type": "markdown",
   "id": "5a04520f",
   "metadata": {},
   "source": []
  },
  {
   "cell_type": "markdown",
   "id": "d608ca94",
   "metadata": {},
   "source": []
  },
  {
   "cell_type": "markdown",
   "id": "64e34525",
   "metadata": {},
   "source": []
  }
 ],
 "metadata": {
  "kernelspec": {
   "display_name": "Python 3 (ipykernel)",
   "language": "python",
   "name": "python3"
  },
  "language_info": {
   "codemirror_mode": {
    "name": "ipython",
    "version": 3
   },
   "file_extension": ".py",
   "mimetype": "text/x-python",
   "name": "python",
   "nbconvert_exporter": "python",
   "pygments_lexer": "ipython3",
   "version": "3.11.8"
  }
 },
 "nbformat": 4,
 "nbformat_minor": 5
}

{
 "cells": [
  {
   "cell_type": "code",
   "execution_count": 1,
   "id": "1edfc294",
   "metadata": {
    "ExecuteTime": {
     "end_time": "2023-12-08T07:24:50.402422Z",
     "start_time": "2023-12-08T07:24:50.311139Z"
    }
   },
   "outputs": [],
   "source": [
    "import numpy as np"
   ]
  },
  {
   "cell_type": "code",
   "execution_count": 2,
   "id": "07742c0b",
   "metadata": {
    "ExecuteTime": {
     "end_time": "2023-12-08T07:25:02.218740Z",
     "start_time": "2023-12-08T07:25:02.209718Z"
    }
   },
   "outputs": [
    {
     "data": {
      "text/plain": [
       "0.3115472915257854"
      ]
     },
     "execution_count": 2,
     "metadata": {},
     "output_type": "execute_result"
    }
   ],
   "source": [
    "np.random.rand()"
   ]
  },
  {
   "cell_type": "code",
   "execution_count": 5,
   "id": "9f087a97",
   "metadata": {
    "ExecuteTime": {
     "end_time": "2023-12-08T09:40:03.197643Z",
     "start_time": "2023-12-08T09:40:03.192348Z"
    }
   },
   "outputs": [
    {
     "name": "stdout",
     "output_type": "stream",
     "text": [
      "(3, 4, 1)\n"
     ]
    }
   ],
   "source": [
    "p = [[[1] for j in range(4)]for i in range(3)]\n",
    "pp = np.array(p)\n",
    "print(pp.shape)"
   ]
  },
  {
   "cell_type": "code",
   "execution_count": 6,
   "id": "db7663f5",
   "metadata": {
    "ExecuteTime": {
     "end_time": "2023-12-09T03:58:49.004019Z",
     "start_time": "2023-12-09T03:58:48.997063Z"
    }
   },
   "outputs": [
    {
     "data": {
      "text/plain": [
       "[0, 0, 0]"
      ]
     },
     "execution_count": 6,
     "metadata": {},
     "output_type": "execute_result"
    }
   ],
   "source": [
    "[0] * 3"
   ]
  }
 ],
 "metadata": {
  "kernelspec": {
   "display_name": "Python 3 (ipykernel)",
   "language": "python",
   "name": "python3"
  },
  "language_info": {
   "codemirror_mode": {
    "name": "ipython",
    "version": 3
   },
   "file_extension": ".py",
   "mimetype": "text/x-python",
   "name": "python",
   "nbconvert_exporter": "python",
   "pygments_lexer": "ipython3",
   "version": "3.11.8"
  }
 },
 "nbformat": 4,
 "nbformat_minor": 5
}

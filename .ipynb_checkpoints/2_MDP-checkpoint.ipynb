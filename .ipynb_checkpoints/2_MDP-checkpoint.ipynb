{
 "cells": [
  {
   "cell_type": "markdown",
   "id": "31762a1f",
   "metadata": {},
   "source": [
    "# MDP"
   ]
  },
  {
   "cell_type": "markdown",
   "id": "72cb1569",
   "metadata": {},
   "source": [
    "## I. 定义MDP\n",
    "1. ‘Markov’的含义：\\\n",
    "① 一般场景下，'Markov'是指给定当前状态，未来和过去的状态是独立的。\\\n",
    "② 在MDP中，'Markov'是指action outcome只取决于当前state，与前序states无关。$$\n",
    "P(S_{t+1} = s^{'}|S_t=s_t,A_t=a_t, S_{t-1},A_{t-1},..., S_0) = P(S_{t+1} = s^{'}|S_t=s_t,A_t=a_t)$$\n",
    "\n",
    "2. MDP的定义：\\\n",
    "在随机的、完全可观察(fully observable)的环境中，transition model符合markovian的条件下，用可加的rewards做序列决策的过程。 \\\n",
    "<font color=green>完全可观察(fully observable)是指transition function和reward function已知</font>\n",
    "\n",
    "3. 用MDP分析问题所需的要素：\\\n",
    "① 一系列状态S，$s\\in S$ \\\n",
    "② 一系列行动A，$a\\in A$ \\\n",
    "③ 一个起始状态 \\\n",
    "④ 一个或者多个终止状态 \\\n",
    "⑤ rewards折扣因子$\\gamma$ \\\n",
    "⑥ 一个transition function $T(s, a, s^{'})$ \\\n",
    "⑦ 一个reward function $R(s, a, s^{'})$"
   ]
  },
  {
   "cell_type": "markdown",
   "id": "a47f7c7c",
   "metadata": {},
   "source": []
  },
  {
   "cell_type": "markdown",
   "id": "045da302",
   "metadata": {},
   "source": []
  },
  {
   "cell_type": "markdown",
   "id": "53581c6f",
   "metadata": {},
   "source": []
  },
  {
   "cell_type": "markdown",
   "id": "c6be6a9b",
   "metadata": {},
   "source": []
  },
  {
   "cell_type": "markdown",
   "id": "d3cdaedb",
   "metadata": {},
   "source": []
  },
  {
   "cell_type": "markdown",
   "id": "156b94f8",
   "metadata": {},
   "source": []
  },
  {
   "cell_type": "markdown",
   "id": "123a28d2",
   "metadata": {},
   "source": []
  },
  {
   "cell_type": "markdown",
   "id": "c6ae3fee",
   "metadata": {},
   "source": []
  },
  {
   "cell_type": "markdown",
   "id": "e95896e2",
   "metadata": {},
   "source": []
  }
 ],
 "metadata": {
  "kernelspec": {
   "display_name": "Python 3 (ipykernel)",
   "language": "python",
   "name": "python3"
  },
  "language_info": {
   "codemirror_mode": {
    "name": "ipython",
    "version": 3
   },
   "file_extension": ".py",
   "mimetype": "text/x-python",
   "name": "python",
   "nbconvert_exporter": "python",
   "pygments_lexer": "ipython3",
   "version": "3.10.12"
  }
 },
 "nbformat": 4,
 "nbformat_minor": 5
}
